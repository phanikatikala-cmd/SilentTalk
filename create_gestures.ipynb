{
 "cells": [
  {
   "cell_type": "markdown",
   "id": "1d2f2301-5bfb-427f-9510-bb5680ae18ec",
   "metadata": {},
   "source": [
    "# Collecting Dataset or Image "
   ]
  },
  {
   "cell_type": "code",
   "execution_count": 1,
   "id": "6a4ce4b2-c962-4f74-98d4-489e7fec05d4",
   "metadata": {},
   "outputs": [],
   "source": [
    "import os\n",
    "import cv2\n",
    "import time\n",
    "import uuid"
   ]
  },
  {
   "cell_type": "code",
   "execution_count": 2,
   "id": "4d1225b1-efb3-416a-ac45-df050afa281f",
   "metadata": {},
   "outputs": [],
   "source": [
    "IMAGES_PATH = 'Tensorflow/workspace/images/collectedimages'"
   ]
  },
  {
   "cell_type": "code",
   "execution_count": 3,
   "id": "5961cce8-8851-456a-a5af-da8aa0df8584",
   "metadata": {},
   "outputs": [],
   "source": [
    "labels = ['hello','I love you','friend','yes', 'no','thank you']\n",
    "# 1.hello 2. I love you 3. friend 4. yes 5. no 6. thank you\n",
    "number_imgs = 10"
   ]
  },
  {
   "cell_type": "code",
   "execution_count": 4,
   "id": "e8b65fe6-9c98-42ab-9cee-8eeeb1e92045",
   "metadata": {},
   "outputs": [
    {
     "name": "stdout",
     "output_type": "stream",
     "text": [
      "Collecting images for hello\n",
      "Collecting images for I love you\n",
      "Collecting images for friend\n",
      "Collecting images for yes\n",
      "Collecting images for no\n",
      "Collecting images for thank you\n"
     ]
    }
   ],
   "source": [
    "for label in labels:\n",
    "    os.makedirs(os.path.join(IMAGES_PATH, label), exist_ok=True)\n",
    "    cap = cv2.VideoCapture(0)\n",
    "    print(f'Collecting images for {label}')\n",
    "    time.sleep(5)\n",
    "\n",
    "    for imgnum in range(number_imgs):\n",
    "        ret, frame = cap.read()\n",
    "        if not ret:\n",
    "            print(\"Failed to capture image\")\n",
    "            continue\n",
    "\n",
    "        imgname = os.path.join(IMAGES_PATH, label, f\"{label}.{str(uuid.uuid1())}.jpg\")\n",
    "        cv2.imwrite(imgname, frame)\n",
    "        cv2.imshow('frame', frame)\n",
    "        time.sleep(2)\n",
    "\n",
    "        if cv2.waitKey(1) & 0xFF == ord('q'):\n",
    "            break\n",
    "\n",
    "    cap.release()\n",
    "    cv2.destroyAllWindows()\n"
   ]
  },
  {
   "cell_type": "code",
   "execution_count": null,
   "id": "95aec405-4a28-4f65-86c6-d248b1969274",
   "metadata": {},
   "outputs": [],
   "source": []
  }
 ],
 "metadata": {
  "kernelspec": {
   "display_name": "Python 3 (ipykernel)",
   "language": "python",
   "name": "python3"
  },
  "language_info": {
   "codemirror_mode": {
    "name": "ipython",
    "version": 3
   },
   "file_extension": ".py",
   "mimetype": "text/x-python",
   "name": "python",
   "nbconvert_exporter": "python",
   "pygments_lexer": "ipython3",
   "version": "3.12.10"
  }
 },
 "nbformat": 4,
 "nbformat_minor": 5
}
